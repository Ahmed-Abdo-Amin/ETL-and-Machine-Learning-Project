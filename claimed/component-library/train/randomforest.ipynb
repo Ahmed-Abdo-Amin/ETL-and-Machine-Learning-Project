{
 "cells": [
  {
   "cell_type": "markdown",
   "id": "75c43329-1c54-4363-9e11-f9e99efc9494",
   "metadata": {},
   "source": [
    "# Task 10 - RandomForest classification"
   ]
  },
  {
   "cell_type": "code",
   "execution_count": 2,
   "id": "709c9d2a-64f0-48bf-a86a-739c00606b54",
   "metadata": {},
   "outputs": [
    {
     "name": "stdout",
     "output_type": "stream",
     "text": [
      "37\n",
      "Starting installation...\n",
      "Please <<RESTART YOUR KERNEL>> (Kernel->Restart Kernel and Clear All Outputs)\n"
     ]
    }
   ],
   "source": [
    "%%bash\n",
    "export version=`python --version |awk '{print $2}' |awk -F\".\" '{print $1$2}'`\n",
    "\n",
    "echo $version\n",
    "\n",
    "if [ $version == '36' ] || [ $version == '37' ]; then\n",
    "    echo 'Starting installation...'\n",
    "    pip3 install pyspark==2.4.8 wget==3.2 pyspark2pmml==0.5.1 > install.log 2> install.log\n",
    "    if [ $? == 0 ]; then\n",
    "        echo 'Please <<RESTART YOUR KERNEL>> (Kernel->Restart Kernel and Clear All Outputs)'\n",
    "    else\n",
    "        echo 'Installation failed, please check log:'\n",
    "        cat install.log\n",
    "    fi\n",
    "elif [ $version == '38' ] || [ $version == '39' ]; then\n",
    "    pip3 install pyspark==3.1.2 wget==3.2 pyspark2pmml==0.5.1 > install.log 2> install.log\n",
    "    if [ $? == 0 ]; then\n",
    "        echo 'Please <<RESTART YOUR KERNEL>> (Kernel->Restart Kernel and Clear All Outputs)'\n",
    "    else\n",
    "        echo 'Installation failed, please check log:'\n",
    "        cat install.log\n",
    "    fi\n",
    "else\n",
    "    echo 'Currently only python 3.6, 3.7 , 3.8 and 3.9 are supported, in case you need a different version please open an issue at https://github.com/IBM/claimed/issues'\n",
    "    exit -1\n",
    "fi"
   ]
  },
  {
   "cell_type": "markdown",
   "id": "762311c9-2abf-4e6f-9835-7b20b7d7fd7d",
   "metadata": {},
   "source": [
    "## Import libraries"
   ]
  },
  {
   "cell_type": "code",
   "execution_count": 3,
   "id": "33e51962-8cca-4f0f-a7cc-c255613ad9ac",
   "metadata": {},
   "outputs": [],
   "source": [
    "from pyspark import SparkContext, SparkConf, SQLContext\n",
    "import os\n",
    "from pyspark.ml.classification import RandomForestClassifier\n",
    "from pyspark.ml import Pipeline\n",
    "from pyspark.ml.evaluation import MulticlassClassificationEvaluator\n",
    "from pyspark2pmml import PMMLBuilder\n",
    "from pyspark.ml.feature import StringIndexer\n",
    "from pyspark.ml.feature import VectorAssembler\n",
    "from pyspark.ml.feature import MinMaxScaler\n",
    "import logging\n",
    "import shutil\n",
    "import site\n",
    "import sys\n",
    "import wget\n",
    "import re"
   ]
  },
  {
   "cell_type": "markdown",
   "id": "9f8a300f-5fe5-4fdb-a030-a053bbe992a5",
   "metadata": {},
   "source": [
    "## Read the parquet file & Convert the parquet file to CSV format"
   ]
  },
  {
   "cell_type": "code",
   "execution_count": 4,
   "id": "5c67e28a-64a8-4746-a8bb-5f845659cffd",
   "metadata": {},
   "outputs": [],
   "source": [
    "if sys.version[0:3] == '3.9':\n",
    "    url = ('https://github.com/jpmml/jpmml-sparkml/releases/download/1.7.2/'\n",
    "           'jpmml-sparkml-executable-1.7.2.jar')\n",
    "    wget.download(url)\n",
    "    shutil.copy('jpmml-sparkml-executable-1.7.2.jar',\n",
    "                site.getsitepackages()[0] + '/pyspark/jars/')\n",
    "elif sys.version[0:3] == '3.8':\n",
    "    url = ('https://github.com/jpmml/jpmml-sparkml/releases/download/1.7.2/'\n",
    "           'jpmml-sparkml-executable-1.7.2.jar')\n",
    "    wget.download(url)\n",
    "    shutil.copy('jpmml-sparkml-executable-1.7.2.jar',\n",
    "                site.getsitepackages()[0] + '/pyspark/jars/')\n",
    "elif sys.version[0:3] == '3.7':\n",
    "    url = ('https://github.com/jpmml/jpmml-sparkml/releases/download/1.5.12/'\n",
    "           'jpmml-sparkml-executable-1.5.12.jar')\n",
    "    wget.download(url)\n",
    "elif sys.version[0:3] == '3.6':\n",
    "    url = ('https://github.com/jpmml/jpmml-sparkml/releases/download/1.5.12/'\n",
    "           'jpmml-sparkml-executable-1.5.12.jar')\n",
    "    wget.download(url)\n",
    "else:\n",
    "    raise Exception('Currently only python 3.6 , 3.7, 3,8 and 3.9 is supported, in case '\n",
    "                    'you need a different version please open an issue at '\n",
    "                    'https://github.com/IBM/claimed/issues')"
   ]
  },
  {
   "cell_type": "code",
   "execution_count": 5,
   "id": "03bc78bb-993e-4c61-8799-6340cd69a518",
   "metadata": {},
   "outputs": [],
   "source": [
    "data_parquet = os.environ.get('data_parquet',\n",
    "                              'data.parquet')  # input file name (parquet)\n",
    "master = os.environ.get('master',\n",
    "                        \"local[*]\")  # URL to Spark master\n",
    "model_target = os.environ.get('model_target',\n",
    "                              \"model.xml\")  # model output file name\n",
    "data_dir = os.environ.get('data_dir',\n",
    "                          '../../data/')  # temporary directory for data\n",
    "input_columns = os.environ.get('input_columns',\n",
    "                               '[\"x\", \"y\", \"z\"]')  # input columns to consider"
   ]
  },
  {
   "cell_type": "code",
   "execution_count": 6,
   "id": "463488cc-1102-4630-b021-68143b2ab16d",
   "metadata": {},
   "outputs": [],
   "source": [
    "parameters = list(\n",
    "    map(lambda s: re.sub('$', '\"', s),\n",
    "        map(\n",
    "            lambda s: s.replace('=', '=\"'),\n",
    "            filter(\n",
    "                lambda s: s.find('=') > -1 and bool(re.match(r'[A-Za-z0-9_]*=[.\\/A-Za-z0-9]*', s)),\n",
    "                sys.argv\n",
    "            )\n",
    "    )))\n",
    "\n",
    "for parameter in parameters:\n",
    "    logging.warning('Parameter: ' + parameter)\n",
    "    exec(parameter)"
   ]
  },
  {
   "cell_type": "code",
   "execution_count": 7,
   "id": "42b2b569-b894-4f81-bb4b-40dd5f26265e",
   "metadata": {},
   "outputs": [
    {
     "name": "stderr",
     "output_type": "stream",
     "text": [
      "23/03/22 16:44:38 WARN util.NativeCodeLoader: Unable to load native-hadoop library for your platform... using builtin-java classes where applicable\n",
      "Setting default log level to \"WARN\".\n",
      "To adjust logging level use sc.setLogLevel(newLevel). For SparkR, use setLogLevel(newLevel).\n"
     ]
    }
   ],
   "source": [
    "conf = SparkConf().setMaster(master)\n",
    "#if sys.version[0:3] == '3.6' or sys.version[0:3] == '3.7':\n",
    "conf.set(\"spark.jars\", 'jpmml-sparkml-executable-1.5.12.jar')\n",
    "\n",
    "sc = SparkContext.getOrCreate(conf)\n",
    "sqlContext = SQLContext(sc)\n",
    "spark = sqlContext.sparkSession"
   ]
  },
  {
   "cell_type": "markdown",
   "id": "5ccb598e-cb3c-42db-bde0-baeec1d25305",
   "metadata": {},
   "source": [
    "## Load the CSV file into a dataframe"
   ]
  },
  {
   "cell_type": "code",
   "execution_count": 8,
   "id": "12c36e38-049e-4e96-a523-087be508437d",
   "metadata": {},
   "outputs": [
    {
     "name": "stderr",
     "output_type": "stream",
     "text": [
      "                                                                                \r"
     ]
    }
   ],
   "source": [
    "df = spark.read.parquet(data_dir + data_parquet)"
   ]
  },
  {
   "cell_type": "code",
   "execution_count": 9,
   "id": "daa0fa57-4026-46b8-ac01-7eaca2867d1a",
   "metadata": {},
   "outputs": [],
   "source": [
    "# register a corresponding query table\n",
    "df.createOrReplaceTempView('df')"
   ]
  },
  {
   "cell_type": "code",
   "execution_count": 10,
   "id": "abe41cbe-b022-4014-aa7f-1ac5c91710b8",
   "metadata": {},
   "outputs": [],
   "source": [
    "from pyspark.sql.types import DoubleType\n",
    "df = df.withColumn(\"x\", df.x.cast(DoubleType()))\n",
    "df = df.withColumn(\"y\", df.y.cast(DoubleType()))\n",
    "df = df.withColumn(\"z\", df.z.cast(DoubleType()))"
   ]
  },
  {
   "cell_type": "markdown",
   "id": "40929891-f1df-4866-8a30-bc3d5864ac73",
   "metadata": {},
   "source": [
    "## Create a 80-20 training and test split with seed=1"
   ]
  },
  {
   "cell_type": "code",
   "execution_count": 11,
   "id": "5f452aef-5fc9-4bc9-be25-f0af42017d54",
   "metadata": {},
   "outputs": [],
   "source": [
    "splits = df.randomSplit([0.8, 0.2],1)\n",
    "df_train = splits[0]\n",
    "df_test = splits[1]"
   ]
  },
  {
   "cell_type": "code",
   "execution_count": 12,
   "id": "17b03acc-0cb2-44d7-820d-6f38299461c5",
   "metadata": {},
   "outputs": [],
   "source": [
    "indexer = StringIndexer(inputCol=\"class\", outputCol=\"label\")\n",
    "\n",
    "vectorAssembler = VectorAssembler(inputCols=eval(input_columns),\n",
    "                                  outputCol=\"features\")\n",
    "\n",
    "normalizer = MinMaxScaler(inputCol=\"features\", outputCol=\"features_norm\")"
   ]
  },
  {
   "cell_type": "markdown",
   "id": "697ae839-3373-427d-9303-18f822f0f542",
   "metadata": {},
   "source": [
    "## Train a Random Forest model with different hyperparameters\n",
    "Hyper parameters:\n",
    "  - number of trees : {10, 20}\n",
    "  - maximum depth : {5, 7} \n",
    "  - use random seed = 1 wherever needed"
   ]
  },
  {
   "cell_type": "code",
   "execution_count": 13,
   "id": "e2fac368-f2bf-490a-a408-0c6dcbf6f83f",
   "metadata": {},
   "outputs": [],
   "source": [
    "def trainModelRandomForest(num_trees=10, max_depth=5, seed=1, df_train=''):\n",
    "    print(f'Training Model by (number of trees={num_trees}, maximum depth= {max_depth})')\n",
    "    RF = RandomForestClassifier(numTrees=num_trees, maxDepth=max_depth, seed=seed)\n",
    "    pipeline = Pipeline(stages=[indexer, vectorAssembler, normalizer, RF])\n",
    "    model = pipeline.fit(df_train)\n",
    "    prediction = model.transform(df_train)\n",
    "    binEval = MulticlassClassificationEvaluator(). \\\n",
    "    setMetricName(\"accuracy\"). \\\n",
    "    setPredictionCol(\"prediction\"). \\\n",
    "    setLabelCol(\"label\")\n",
    "    acc = binEval.evaluate(prediction)\n",
    "    print(f'The accuracy: {acc}\\n')\n",
    "    print('-'*100)\n",
    "    return (acc, num_trees, max_depth, seed)"
   ]
  },
  {
   "cell_type": "code",
   "execution_count": 14,
   "id": "212020b0-92df-451f-87fb-003e518b4760",
   "metadata": {},
   "outputs": [
    {
     "name": "stdout",
     "output_type": "stream",
     "text": [
      "Training Model by (number of trees=10, maximum depth= 5)\n"
     ]
    },
    {
     "name": "stderr",
     "output_type": "stream",
     "text": [
      "                                                                                \r"
     ]
    },
    {
     "name": "stdout",
     "output_type": "stream",
     "text": [
      "The accuracy: 0.44382182942402043\n",
      "\n",
      "----------------------------------------------------------------------------------------------------\n",
      "Training Model by (number of trees=10, maximum depth= 7)\n"
     ]
    },
    {
     "name": "stderr",
     "output_type": "stream",
     "text": [
      "                                                                                \r"
     ]
    },
    {
     "name": "stdout",
     "output_type": "stream",
     "text": [
      "The accuracy: 0.4634804086296122\n",
      "\n",
      "----------------------------------------------------------------------------------------------------\n",
      "Training Model by (number of trees=20, maximum depth= 5)\n"
     ]
    },
    {
     "name": "stderr",
     "output_type": "stream",
     "text": [
      "                                                                                \r"
     ]
    },
    {
     "name": "stdout",
     "output_type": "stream",
     "text": [
      "The accuracy: 0.44449391760198936\n",
      "\n",
      "----------------------------------------------------------------------------------------------------\n",
      "Training Model by (number of trees=20, maximum depth= 7)\n"
     ]
    },
    {
     "name": "stderr",
     "output_type": "stream",
     "text": [
      "[Stage 99:=================================================>        (6 + 1) / 7]"
     ]
    },
    {
     "name": "stdout",
     "output_type": "stream",
     "text": [
      "The accuracy: 0.46789378766494166\n",
      "\n",
      "----------------------------------------------------------------------------------------------------\n"
     ]
    },
    {
     "name": "stderr",
     "output_type": "stream",
     "text": [
      "                                                                                \r"
     ]
    }
   ],
   "source": [
    "# Hyperparameters are training parameters\n",
    "num_trees = [10, 20]\n",
    "max_depth = [5,7]\n",
    "performaceList = []\n",
    "for i in range(len(num_trees)):\n",
    "    for j in range(len(max_depth)):\n",
    "        performaceList.append(trainModelRandomForest(num_trees[i], max_depth[j], 1, df_train))"
   ]
  },
  {
   "cell_type": "code",
   "execution_count": 15,
   "id": "c8e333c8-cc84-4771-894c-ec5ebc15a20c",
   "metadata": {},
   "outputs": [
    {
     "name": "stdout",
     "output_type": "stream",
     "text": [
      "The highest accuracy is 0.46789378766494166 of training model by (number of trees=20, maximum depth=7, random seed=1)\n"
     ]
    }
   ],
   "source": [
    "import numpy as np\n",
    "performList = np.array(performaceList)\n",
    "indexMax = performList[:,0].argmax(axis=0)\n",
    "hAcc, hnum_trees, hmax_depth, hseed = performaceList[indexMax]\n",
    "print(\"The highest accuracy is {} of training model by (number of trees={}, maximum depth={}, random seed={})\".format(hAcc, hnum_trees, hmax_depth, hseed))"
   ]
  },
  {
   "cell_type": "code",
   "execution_count": null,
   "id": "e88eac1d-a350-481f-a8fb-816af273ef9f",
   "metadata": {},
   "outputs": [],
   "source": []
  }
 ],
 "metadata": {
  "kernelspec": {
   "display_name": "Python",
   "language": "python",
   "name": "conda-env-python-py"
  },
  "language_info": {
   "codemirror_mode": {
    "name": "ipython",
    "version": 3
   },
   "file_extension": ".py",
   "mimetype": "text/x-python",
   "name": "python",
   "nbconvert_exporter": "python",
   "pygments_lexer": "ipython3",
   "version": "3.7.12"
  }
 },
 "nbformat": 4,
 "nbformat_minor": 5
}
